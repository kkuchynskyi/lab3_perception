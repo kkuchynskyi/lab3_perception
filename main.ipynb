{
 "cells": [
  {
   "cell_type": "code",
   "execution_count": 1,
   "metadata": {},
   "outputs": [],
   "source": [
    "import random\n",
    "import math\n",
    "import time\n",
    "import json\n",
    "import os\n",
    "from numba import jit\n",
    "\n",
    "import numpy as np\n",
    "from tqdm import tqdm\n",
    "from PIL import Image"
   ]
  },
  {
   "cell_type": "markdown",
   "metadata": {},
   "source": [
    "## read image"
   ]
  },
  {
   "cell_type": "code",
   "execution_count": 2,
   "metadata": {},
   "outputs": [
    {
     "name": "stdout",
     "output_type": "stream",
     "text": [
      "(252, 480)\n"
     ]
    }
   ],
   "source": [
    "img = np.array(Image.open(\"./lab3_data/mona-lisa-damaged.png\"), dtype=np.float32)[:, :, 0]\n",
    "m, n = img.shape\n",
    "print(img.shape)\n",
    "C = np.array([0, 64, 128, 192, 255], dtype=np.float32)"
   ]
  },
  {
   "cell_type": "code",
   "execution_count": 3,
   "metadata": {},
   "outputs": [],
   "source": [
    "L = np.zeros((m, n, len(C)), dtype=np.float64)\n",
    "U = np.zeros((m, n, len(C)), dtype=np.float64)\n",
    "D = np.zeros((m, n, len(C)), dtype=np.float64)\n",
    "R = np.zeros((m, n, len(C)), dtype=np.float64)\n",
    "######\n",
    "phi = np.zeros((m, n, len(C)))\n",
    "\n",
    "g = np.zeros((len(C), len(C)), dtype=np.float32)\n",
    "for i in range(len(C)):\n",
    "    for j in range(len(C)):\n",
    "        g[i, j] = -abs(C[i] - C[j])\n",
    "\n",
    "\n",
    "q = np.zeros((m, n, len(C)), dtype=np.float32)\n",
    "def call_q(i, j, k):\n",
    "    if img[i, j] != 0:\n",
    "        return -abs(img[i, j] - C[k])\n",
    "    else:\n",
    "        return 0\n",
    "for i in range(m):\n",
    "    for j in range(n):\n",
    "        for c in range(len(C)):\n",
    "            q[i, j, c] = call_q(i, j, c)\n",
    "\n",
    "#####\n",
    "#####\n",
    "@jit(nopython=True)\n",
    "def update_left(i, j, k, direction, phi, C):\n",
    "    values = np.zeros((len(C),), dtype=np.float32)\n",
    "    for k_ in range(len(C)):\n",
    "        values[k_] = direction[i, j-1, k_] + 0.5*q[i, j-1, k_] - phi[i, j-1, k_] + g[k_, k]\n",
    "    return values.max()\n",
    "\n",
    "@jit(nopython=True)\n",
    "def update_upper(i, j, k, direction, phi, C):\n",
    "    values = np.zeros((len(C),), dtype=np.float32)\n",
    "    for k_ in range(len(C)):\n",
    "        values[k_] = direction[i-1, j, k_] + 0.5*q[i-1, j, k_] - phi[i-1, j, k_] + g[k_, k]\n",
    "    return values.max()\n",
    "\n",
    "#####\n",
    "@jit(nopython=True)\n",
    "def update_right(i, j, k, direction, phi, C):\n",
    "    values = np.zeros((len(C),), dtype=np.float32)\n",
    "    for k_ in range(len(C)):\n",
    "        values[k_] = direction[i, j+1, k_] + 0.5*q[i, j+1, k_] + phi[i, j+1, k_] +g[k_, k]\n",
    "    return values.max()\n",
    "\n",
    "\n",
    "@jit(nopython=True)\n",
    "def update_down(i, j, k, direction, phi, C):\n",
    "    values = np.zeros((len(C),), dtype=np.float32)\n",
    "    for k_ in range(len(C)):\n",
    "        values[k_] = direction[i+1, j, k_] + 0.5*q[i+1, j, k_] + phi[i+1, j, k_] + g[k_, k]\n",
    "    return values.max()\n",
    "\n",
    "\n",
    "####\n",
    "def restore_k(i, j, C):\n",
    "    values = list()\n",
    "    for k_ in range(len(C)):\n",
    "        values.append(L[i, j, k_] + R[i, j, k_] + q[i, j, k_] - phi[i, j, k_])\n",
    "    return C[values.index(max(values))]"
   ]
  },
  {
   "cell_type": "markdown",
   "metadata": {},
   "source": [
    "## 10 steps of trw-s"
   ]
  },
  {
   "cell_type": "code",
   "execution_count": 4,
   "metadata": {
    "scrolled": true
   },
   "outputs": [],
   "source": [
    "for i in reversed(range(0, m-1)):\n",
    "    for j in reversed(range(0, n-1)):\n",
    "        for c in range(len(C)):\n",
    "            R[i, j, c] = update_right(i, j, c, R, phi, C)\n",
    "            D[i, j, c] = update_down(i, j, c, D, phi, C)"
   ]
  },
  {
   "cell_type": "code",
   "execution_count": 5,
   "metadata": {},
   "outputs": [
    {
     "name": "stderr",
     "output_type": "stream",
     "text": [
      "100%|██████████| 10/10 [01:19<00:00,  7.96s/it]\n"
     ]
    }
   ],
   "source": [
    "for iteration in tqdm(range(10)):\n",
    "    # forward\n",
    "    for i in range(1, m):\n",
    "        for j in range(1, n):\n",
    "            for c in range(len(C)):\n",
    "                L[i, j, c] = update_left(i, j, c, L, phi, C)\n",
    "                U[i, j, c] = update_upper(i, j, c, U, phi, C)\n",
    "                phi[i, j, c] = (L[i, j, c] + U[i, j, c] - R[i, j, c] - D[i, j, c])/2\n",
    "    # backward\n",
    "    for i in reversed(range(0, m-1)):\n",
    "        for j in reversed(range(0, n-1)):\n",
    "            for c in range(len(C)):\n",
    "                R[i, j, c] = update_right(i, j, c, R, phi, C)\n",
    "                D[i, j, c] = update_down(i, j, c, D, phi, C)\n",
    "                phi[i, j, c] = (L[i, j, c] + U[i, j, c] - R[i, j, c] - D[i, j, c])/2"
   ]
  },
  {
   "cell_type": "code",
   "execution_count": 6,
   "metadata": {},
   "outputs": [
    {
     "data": {
      "image/png": "[encoded data removed]",
      "text/plain": [
       "<PIL.Image.Image image mode=L size=480x252 at 0x20A6107EF48>"
      ]
     },
     "execution_count": 6,
     "metadata": {},
     "output_type": "execute_result"
    }
   ],
   "source": [
    "new_img = np.zeros((m, n), dtype=np.uint8)\n",
    "for i in range(0, m):\n",
    "    for j in range(1, n-1):\n",
    "        new_img[i, j] = restore_k(i, j, C)\n",
    "Image.fromarray(new_img)"
   ]
  },
  {
   "cell_type": "code",
   "execution_count": null,
   "metadata": {},
   "outputs": [],
   "source": []
  }
 ],
 "metadata": {
  "kernelspec": {
   "display_name": "Python 3",
   "language": "python",
   "name": "python3"
  },
  "language_info": {
   "codemirror_mode": {
    "name": "ipython",
    "version": 3
   },
   "file_extension": ".py",
   "mimetype": "text/x-python",
   "name": "python",
   "nbconvert_exporter": "python",
   "pygments_lexer": "ipython3",
   "version": "3.7.4"
  }
 },
 "nbformat": 4,
 "nbformat_minor": 2
}
